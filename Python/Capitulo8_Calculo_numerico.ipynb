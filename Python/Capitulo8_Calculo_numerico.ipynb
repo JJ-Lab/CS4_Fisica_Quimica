{
 "cells": [
  {
   "cell_type": "markdown",
   "metadata": {},
   "source": [
    "# Cálculo numérico en Python\n",
    "\n",
    "Para trabajar con cálculo numérico en Python (incluyendo complejos, matrices, etc.) usaremos siempre el módulo \n",
    "\"numpy\""
   ]
  },
  {
   "cell_type": "markdown",
   "metadata": {},
   "source": [
    "## Matrices (arrays)"
   ]
  },
  {
   "cell_type": "markdown",
   "metadata": {},
   "source": [
    "Los \"arrays\" no son matrices en sentido estricto sino vectores de cualquier dimensión. Si multiplicamos 2 arrays de dimensión 2, no hace el producto matricial sino que multiplica los arrays elemento a elemento. Hay que usar las funciones específicas para el producto matricial o definir el objeto como clase \"matrix\" (que es un tipo especial de \"array\" que tiene implementados los métodos de las matrices matemáticas)"
   ]
  },
  {
   "cell_type": "code",
   "execution_count": 1,
   "metadata": {},
   "outputs": [],
   "source": [
    "import numpy as np"
   ]
  },
  {
   "cell_type": "markdown",
   "metadata": {},
   "source": [
    "Empezamos por convertir una lista en un array de numpy"
   ]
  },
  {
   "cell_type": "code",
   "execution_count": null,
   "metadata": {},
   "outputs": [],
   "source": [
    "list1=[0.5, 0.7, 0.9]"
   ]
  },
  {
   "cell_type": "code",
   "execution_count": null,
   "metadata": {},
   "outputs": [],
   "source": [
    "list2=[2, 2.1, 2.2]"
   ]
  },
  {
   "cell_type": "code",
   "execution_count": null,
   "metadata": {},
   "outputs": [],
   "source": [
    "array1 = np.array(list1)\n",
    "array1"
   ]
  },
  {
   "cell_type": "code",
   "execution_count": null,
   "metadata": {},
   "outputs": [],
   "source": [
    "array2=np.array(list2)"
   ]
  },
  {
   "cell_type": "code",
   "execution_count": null,
   "metadata": {},
   "outputs": [],
   "source": [
    "array3 = np.array([0.5, 0, -0.777])\n",
    "array3"
   ]
  },
  {
   "cell_type": "code",
   "execution_count": null,
   "metadata": {},
   "outputs": [],
   "source": [
    "array1.shape"
   ]
  },
  {
   "cell_type": "code",
   "execution_count": null,
   "metadata": {},
   "outputs": [],
   "source": [
    "np.shape(array1)"
   ]
  },
  {
   "cell_type": "markdown",
   "metadata": {},
   "source": [
    "Y crear un array de arrays, es decir, de 2 dimensiones"
   ]
  },
  {
   "cell_type": "code",
   "execution_count": null,
   "metadata": {},
   "outputs": [],
   "source": [
    "array1_2=np.array([array1,array2])"
   ]
  },
  {
   "cell_type": "code",
   "execution_count": null,
   "metadata": {},
   "outputs": [],
   "source": [
    "#type(array1_2)\n",
    "array1_2.shape\n",
    "#np.shape(array1_2)"
   ]
  },
  {
   "cell_type": "code",
   "execution_count": null,
   "metadata": {},
   "outputs": [],
   "source": [
    "print(array1_2)"
   ]
  },
  {
   "cell_type": "code",
   "execution_count": null,
   "metadata": {},
   "outputs": [],
   "source": [
    "array1_2"
   ]
  },
  {
   "cell_type": "code",
   "execution_count": null,
   "metadata": {},
   "outputs": [],
   "source": [
    "array1_3 = np.array([array1,array3])\n",
    "array1_3"
   ]
  },
  {
   "cell_type": "markdown",
   "metadata": {},
   "source": [
    "Si ahora queremos añadirle otro \"array\", no se utiliza la función \"append\" de las listas, para pegarle otro array se utiliza \"concatenate\""
   ]
  },
  {
   "cell_type": "code",
   "execution_count": null,
   "metadata": {},
   "outputs": [],
   "source": [
    "array2_3 = np.concatenate((array1,array2))\n",
    "array2_3"
   ]
  },
  {
   "cell_type": "markdown",
   "metadata": {},
   "source": [
    "Y si queremos añadirla en un array de 2 dimensiones hay que decirle en qué eje se lo queremos añadir"
   ]
  },
  {
   "cell_type": "code",
   "execution_count": null,
   "metadata": {},
   "outputs": [],
   "source": [
    "print(array1_2.shape)\n",
    "print(array1_3.shape)\n",
    "array1_2_3 = np.concatenate((array1_2, array1_3), axis=0)\n",
    "array1_2_3"
   ]
  },
  {
   "cell_type": "code",
   "execution_count": null,
   "metadata": {},
   "outputs": [],
   "source": [
    "array1_2_3 = np.concatenate((array1_2, array1_3), axis=1)\n",
    "array1_2_3"
   ]
  },
  {
   "cell_type": "markdown",
   "metadata": {},
   "source": [
    "Para generar una secuencia regular con numpy existe la función \"linspace\" (o \"logspace\" si lo queremos en escala logarítmica, pero se indican los exponentes para el comienzo y el final de la secuencia).\n",
    "Se indica el primer valor de la secuencia, el último, y el número total de puntos de la secuencia.\n",
    "En este caso $\\bf{SÍ}$ se incluye el valor final."
   ]
  },
  {
   "cell_type": "code",
   "execution_count": null,
   "metadata": {},
   "outputs": [],
   "source": [
    "N=101 \n",
    "#Notar que N suele ser el número de puntos que queremos +1 porque incluye el primero y el último\n",
    "t=np.linspace(0,10,N)\n",
    "print(t)"
   ]
  },
  {
   "cell_type": "code",
   "execution_count": null,
   "metadata": {},
   "outputs": [],
   "source": [
    "type(t)\n",
    "#print(t)"
   ]
  },
  {
   "cell_type": "code",
   "execution_count": null,
   "metadata": {},
   "outputs": [],
   "source": [
    "tlog = np.logspace(0,2,11) #desde 10^0 hasta 10^2, ambos inclusive\n",
    "print(tlog)"
   ]
  },
  {
   "cell_type": "markdown",
   "metadata": {},
   "source": [
    "# Integral numerica"
   ]
  },
  {
   "cell_type": "markdown",
   "metadata": {},
   "source": [
    "Vamos a comenzar a hacer cálculo numérico. Empezaremos con la integral del $sin(x)$ entre $0$  y $\\pi$"
   ]
  },
  {
   "cell_type": "code",
   "execution_count": null,
   "metadata": {},
   "outputs": [],
   "source": [
    "N = 10000 #Nº de puntos para hacer la integral"
   ]
  },
  {
   "cell_type": "code",
   "execution_count": null,
   "metadata": {},
   "outputs": [],
   "source": [
    "x = np.linspace(0, np.pi , N)\n",
    "print(x[-1], np.pi)"
   ]
  },
  {
   "cell_type": "code",
   "execution_count": null,
   "metadata": {},
   "outputs": [],
   "source": [
    "y = np.sin(x)\n",
    "print(y[-1])"
   ]
  },
  {
   "cell_type": "markdown",
   "metadata": {},
   "source": [
    "Haremos la integral numérica con el método del trapecio: $$\\sum_{i=1}^{N}\\frac{f(x_{i-1})+f(x_{i})}{2}\\cdot \\Delta x$$"
   ]
  },
  {
   "cell_type": "code",
   "execution_count": null,
   "metadata": {},
   "outputs": [],
   "source": [
    "f = y\n",
    "f.shape"
   ]
  },
  {
   "cell_type": "code",
   "execution_count": null,
   "metadata": {},
   "outputs": [],
   "source": [
    "integr= 0.0\n",
    "for i in range(1,N):\n",
    "    integr = integr + ((f[i-1]+f[i])/2)*(x[i]-x[i-1])\n",
    "    \n",
    "print(integr)"
   ]
  },
  {
   "cell_type": "code",
   "execution_count": null,
   "metadata": {},
   "outputs": [],
   "source": [
    "2-integr"
   ]
  },
  {
   "cell_type": "markdown",
   "metadata": {},
   "source": [
    "Y finalmente usando la propia función de Python para calcular integrales numéricas por el método del \"Trapecio\""
   ]
  },
  {
   "cell_type": "code",
   "execution_count": null,
   "metadata": {},
   "outputs": [],
   "source": [
    "integr=np.trapz(y,x)\n",
    "print(integr)"
   ]
  },
  {
   "cell_type": "code",
   "execution_count": null,
   "metadata": {},
   "outputs": [],
   "source": []
  },
  {
   "cell_type": "code",
   "execution_count": null,
   "metadata": {},
   "outputs": [],
   "source": []
  },
  {
   "cell_type": "code",
   "execution_count": null,
   "metadata": {},
   "outputs": [],
   "source": []
  },
  {
   "cell_type": "markdown",
   "metadata": {},
   "source": [
    "\n",
    "# Cálculo del radio del planeta"
   ]
  },
  {
   "cell_type": "markdown",
   "metadata": {},
   "source": [
    "Como conocemos el valor de la gravedad \"g\" vamos a calcular el radio del planeta, $R_{P}$ usando la definición del campo gravitatorio para un cuerpo de radio R, conocida su densidad. Su módulo se puede escribir como:\n",
    "$$g(R_P)=G\\frac{M}{R_P^2}=\\frac{G}{R_P^2} {\\int_{0}^{R_P}{\\rho(r) 4\\pi r^2} dr}$$\n"
   ]
  },
  {
   "cell_type": "markdown",
   "metadata": {},
   "source": [
    "Como nos dicen que su densidad varía linealmente desde el hierro fundido en el núcleo ($\\rho_{0}=11 g/cm^3$) hasta los silicatos ($\\rho_{1}=2.7 g/cm^3$) en la corteza, la escribiremos como:\n",
    "$$\\rho(r) = (\\rho_{1} - \\rho_{0}) \\frac{r}{R_{P}}+\\rho_{0}$$"
   ]
  },
  {
   "cell_type": "markdown",
   "metadata": {},
   "source": [
    "Comenzamos por calcular el valor de la masa del planeta de radio R para, después, calcular el valor de su gravedad"
   ]
  },
  {
   "cell_type": "code",
   "execution_count": 43,
   "metadata": {},
   "outputs": [],
   "source": [
    "R = 6370000  #ponemos un valor como el de la Tierra para ver qué saldría\n",
    "G = 6.674e-11\n",
    "rho0 = 11000\n",
    "rho1 = 2700\n"
   ]
  },
  {
   "cell_type": "code",
   "execution_count": 44,
   "metadata": {},
   "outputs": [
    {
     "data": {
      "text/plain": [
       "array([      0.,    6370.,   12740., ..., 6357260., 6363630., 6370000.])"
      ]
     },
     "execution_count": 44,
     "metadata": {},
     "output_type": "execute_result"
    }
   ],
   "source": [
    "r = np.linspace(0,R,1001)\n",
    "r"
   ]
  },
  {
   "cell_type": "code",
   "execution_count": 45,
   "metadata": {},
   "outputs": [
    {
     "data": {
      "text/plain": [
       "array([11000. , 10991.7, 10983.4, ...,  2716.6,  2708.3,  2700. ])"
      ]
     },
     "execution_count": 45,
     "metadata": {},
     "output_type": "execute_result"
    }
   ],
   "source": [
    "rho = r*(rho1-rho0)/R + rho0\n",
    "rho"
   ]
  },
  {
   "cell_type": "code",
   "execution_count": 46,
   "metadata": {},
   "outputs": [],
   "source": [
    "f=4*np.pi*r*r*rho"
   ]
  },
  {
   "cell_type": "code",
   "execution_count": 47,
   "metadata": {},
   "outputs": [
    {
     "data": {
      "text/plain": [
       "5.169877067397985e+24"
      ]
     },
     "execution_count": 47,
     "metadata": {},
     "output_type": "execute_result"
    }
   ],
   "source": [
    "M = np.trapz(f,r)\n",
    "M"
   ]
  },
  {
   "cell_type": "code",
   "execution_count": 48,
   "metadata": {},
   "outputs": [
    {
     "data": {
      "text/plain": [
       "8.503301027878953"
      ]
     },
     "execution_count": 48,
     "metadata": {},
     "output_type": "execute_result"
    }
   ],
   "source": [
    "g = G*M/(R*R)\n",
    "g"
   ]
  },
  {
   "cell_type": "markdown",
   "metadata": {},
   "source": [
    "Como no sabemos qué radio tiene el planeta tendremos que ir variando el radio para luego comparar el valor de la gravedad con el valor dado"
   ]
  },
  {
   "cell_type": "code",
   "execution_count": 49,
   "metadata": {},
   "outputs": [
    {
     "data": {
      "text/plain": [
       "8.503301027878953"
      ]
     },
     "execution_count": 49,
     "metadata": {},
     "output_type": "execute_result"
    }
   ],
   "source": [
    "R_i = 6370000  #valor arbitrario para el radio del planeta\n",
    "N = 1001 # Número de puntos para calcular la integral\n",
    "rho0 = 11000\n",
    "rho1 = 2700\n",
    "r = np.linspace(0,R_i,N)\n",
    "rho = rho0 + r*(rho1 - rho0)/R_i\n",
    "f = 4*np.pi*r*r*rho\n",
    "M = np.trapz(f,r)\n",
    "g = G*M/(R_i*R_i)\n",
    "g"
   ]
  },
  {
   "cell_type": "markdown",
   "metadata": {},
   "source": [
    "Como ya tenemos el bloque de programa para calcular la gravedad para un radio dado $R_i$, lo vamos a meter en una función"
   ]
  },
  {
   "cell_type": "code",
   "execution_count": 50,
   "metadata": {},
   "outputs": [],
   "source": [
    "def gravedad(R_i,N):\n",
    "    r = np.linspace(0,R_i,N)\n",
    "    rho = rho0 + r*(rho1 - rho0)/R_i\n",
    "    f = 4*np.pi*r*r*rho\n",
    "    M = np.trapz(f,r)\n",
    "    g = G*M/(R_i*R_i)\n",
    "    return g\n"
   ]
  },
  {
   "cell_type": "code",
   "execution_count": 52,
   "metadata": {},
   "outputs": [
    {
     "data": {
      "text/plain": [
       "8.503301025292918"
      ]
     },
     "execution_count": 52,
     "metadata": {},
     "output_type": "execute_result"
    }
   ],
   "source": [
    "gravedad(6370000,1000)"
   ]
  },
  {
   "cell_type": "code",
   "execution_count": null,
   "metadata": {},
   "outputs": [],
   "source": []
  },
  {
   "cell_type": "markdown",
   "metadata": {},
   "source": [
    " ### Cálculo de los valores de la gravedad en función del radio del planeta"
   ]
  },
  {
   "cell_type": "code",
   "execution_count": 53,
   "metadata": {},
   "outputs": [
    {
     "name": "stdout",
     "output_type": "stream",
     "text": [
      "[ 1000000.  1450000.  1900000.  2350000.  2800000.  3250000.  3700000.\n",
      "  4150000.  4600000.  5050000.  5500000.  5950000.  6400000.  6850000.\n",
      "  7300000.  7750000.  8200000.  8650000.  9100000.  9550000. 10000000.]\n"
     ]
    }
   ],
   "source": [
    "g_real = 5.6\n",
    "\n",
    "R0 = 1000000 #comenzamos con un valor de 1.000km\n",
    "R1 = 10000000\n",
    "N_R = 21  # Número de radios de planeta para los que vamos a calcular la gravedad\n",
    "N_r = 10000 #número de puntos del linspace para calcular la masa del planeta\n",
    "\n",
    "G = 6.674e-11\n",
    "rho0 = 11000\n",
    "rho1 = 2700\n",
    "\n",
    "R_vect = np.linspace(R0,R1,N_R)\n",
    "print((R_vect))"
   ]
  },
  {
   "cell_type": "markdown",
   "metadata": {},
   "source": [
    "Y ahora vamos a hacerlo para todo el conjunto de valores de Radios de Planetas:"
   ]
  },
  {
   "cell_type": "code",
   "execution_count": 33,
   "metadata": {},
   "outputs": [
    {
     "name": "stdout",
     "output_type": "stream",
     "text": [
      "1000000.0 1.3348981201401755\n",
      "1450000.0 1.9356022742032546\n",
      "1900000.0 2.5363064282663337\n",
      "2350000.0 3.137010582329413\n",
      "2800000.0 3.7377147363924923\n",
      "3250000.0 4.338418890455571\n",
      "3700000.0 4.9391230445186505\n",
      "4150000.0 5.53982719858173\n",
      "4600000.0 6.140531352644809\n",
      "5050000.0 6.741235506707888\n",
      "5500000.0 7.341939660770966\n",
      "5950000.0 7.942643814834045\n",
      "6400000.0 8.543347968897123\n",
      "6850000.0 9.144052122960204\n",
      "7300000.0 9.744756277023285\n",
      "7750000.0 10.345460431086362\n",
      "8200000.0 10.946164585149443\n",
      "8650000.0 11.54686873921252\n",
      "9100000.0 12.1475728932756\n",
      "9550000.0 12.748277047338677\n",
      "10000000.0 13.348981201401758\n"
     ]
    }
   ],
   "source": [
    "R0 = 1000000 #comenzamos con un valor de 1.000km\n",
    "R1 = 10000000 #radio final\n",
    "N_R = 21  # Número de radios de planeta para los que vamos a calcular la gravedad\n",
    "N_r = 1000\n",
    "R_vect = np.linspace(R0,R1,N_R)\n",
    "g_i=np.empty(len(R_vect))\n",
    "\n",
    "i=0\n",
    "for R_i in R_vect:\n",
    "    g_i[i] = gravedad(R_i,N_r)\n",
    "    print(R_i, g_i[i])\n",
    "    i += 1\n"
   ]
  },
  {
   "cell_type": "markdown",
   "metadata": {},
   "source": [
    "Y ahora lo podemos representar en una gráfica"
   ]
  },
  {
   "cell_type": "code",
   "execution_count": 60,
   "metadata": {},
   "outputs": [
    {
     "data": {
      "image/png": "[encoded data removed]",
      "text/plain": [
       "<Figure size 432x288 with 1 Axes>"
      ]
     },
     "metadata": {
      "needs_background": "light"
     },
     "output_type": "display_data"
    }
   ],
   "source": [
    "from matplotlib import pylab as plt\n",
    "\n",
    "plt.plot(R_vect,g_i)\n",
    "plt.xlabel('R(m)')\n",
    "plt.ylabel('g(m/s^2)')\n",
    "plt.grid(True)\n",
    "plt.minorticks_on()\n",
    "plt.grid(b=True, which='minor', color='#999999', linestyle='-', alpha=0.2)\n",
    "plt.axis([0.1e7, 1e7, 0., 15])\n",
    "plt.title('Valores de la gravedad')\n",
    "#plt.savefig('valores_gravedad.jpg')\n",
    "plt.show()\n"
   ]
  },
  {
   "cell_type": "code",
   "execution_count": null,
   "metadata": {},
   "outputs": [],
   "source": []
  },
  {
   "cell_type": "code",
   "execution_count": null,
   "metadata": {},
   "outputs": [],
   "source": []
  },
  {
   "cell_type": "markdown",
   "metadata": {},
   "source": [
    "# Bucle    $\\bf{While}$  "
   ]
  },
  {
   "cell_type": "markdown",
   "metadata": {},
   "source": [
    "Ya hemos visto el bucle $\\bf{for}$ y ahora vamos a ver el otro bucle que se utiliza mucho: $\\bf{while}$"
   ]
  },
  {
   "cell_type": "markdown",
   "metadata": {},
   "source": [
    "En este caso el bloque de programa se va a repetir MIENTRAS se cumpla la condición.\n",
    "Recordar que después de la condición hay que poner el signo $\\bf{:}$, y el conjunto de instrucciones se tienen que estar $\\bf{tabulado}$ para que Python sepa cuáles son las que tiene que ejecutar"
   ]
  },
  {
   "cell_type": "markdown",
   "metadata": {},
   "source": [
    "### Cálculo del radio por aproximaciones sucesivas"
   ]
  },
  {
   "cell_type": "markdown",
   "metadata": {},
   "source": [
    "Para aproximarnos al valor real lo vamos a hacer por sucesivas aproximaciones. En lugar de ir tomando incrementos constantes para los valores del radio del planeta, comenzamos por un valor inicial del Radio y vamos a ir haciendo aproximaciones al radio: Si nos quedamos cortos lo hacemos más grande, y  si nos pasamos hacemos el radio más pequeño, y hacemos la variación  más pequeña."
   ]
  },
  {
   "cell_type": "markdown",
   "metadata": {},
   "source": [
    "$$\\rm{Si} \\hspace{5mm} g < g_{real} \\hspace{5mm} R=r+\\Delta R$$\n",
    "$$\\rm{Si} \\hspace{5mm} g > g_{real} \\hspace{5mm} R=r-\\Delta R$$  \n",
    "$$\\rm{Si} \\hspace{5mm} g > g_{real} \\hspace{5mm} \\Delta R  =   \\Delta R /2$$\n"
   ]
  },
  {
   "cell_type": "code",
   "execution_count": 57,
   "metadata": {},
   "outputs": [],
   "source": [
    "g_real = 5.6\n",
    "error_g = 0.05"
   ]
  },
  {
   "cell_type": "markdown",
   "metadata": {},
   "source": [
    "Vamos a calcular la integral numérica del campo gravitatoria para el planeta de los pájaros enfadados"
   ]
  },
  {
   "cell_type": "code",
   "execution_count": 59,
   "metadata": {},
   "outputs": [
    {
     "name": "stdout",
     "output_type": "stream",
     "text": [
      "R_i= 1000000 ; g= 1.3348981201401755 ; error: -4.265101879859824\n",
      "Delta_R: 500000 ; nuevo radio: 1500000\n",
      "R_i= 1500000 ; g= 2.0023471802102635 ; error: -3.597652819789736\n",
      "Delta_R: 500000 ; nuevo radio: 2000000\n",
      "R_i= 2000000 ; g= 2.669796240280351 ; error: -2.9302037597196486\n",
      "Delta_R: 500000 ; nuevo radio: 2500000\n",
      "R_i= 2500000 ; g= 3.3372453003504394 ; error: -2.26275469964956\n",
      "Delta_R: 500000 ; nuevo radio: 3000000\n",
      "R_i= 3000000 ; g= 4.004694360420527 ; error: -1.5953056395794727\n",
      "Delta_R: 500000 ; nuevo radio: 3500000\n",
      "R_i= 3500000 ; g= 4.672143420490616 ; error: -0.9278565795093838\n",
      "Delta_R: 500000 ; nuevo radio: 4000000\n",
      "R_i= 4000000 ; g= 5.339592480560702 ; error: -0.26040751943929763\n",
      "Delta_R: 500000 ; nuevo radio: 4500000\n",
      "R_i= 4500000 ; g= 6.00704154063079 ; error: 0.40704154063079034\n",
      "Delta_R: 250000.0 ; nuevo radio: 4000000\n",
      "R_i= 4000000 ; g= 5.339592480560702 ; error: -0.26040751943929763\n",
      "Delta_R: 250000.0 ; nuevo radio: 4250000.0\n",
      "R_i= 4250000.0 ; g= 5.6733170105957464 ; error: 0.0733170105957468\n",
      "Delta_R: 125000.0 ; nuevo radio: 4000000.0\n",
      "R_i= 4000000.0 ; g= 5.339592480560702 ; error: -0.26040751943929763\n",
      "Delta_R: 125000.0 ; nuevo radio: 4125000.0\n",
      "R_i= 4125000.0 ; g= 5.506454745578225 ; error: -0.09354525442177497\n",
      "Delta_R: 125000.0 ; nuevo radio: 4250000.0\n",
      "R_i= 4250000.0 ; g= 5.6733170105957464 ; error: 0.0733170105957468\n",
      "Delta_R: 62500.0 ; nuevo radio: 4125000.0\n",
      "R_i= 4125000.0 ; g= 5.506454745578225 ; error: -0.09354525442177497\n",
      "Delta_R: 62500.0 ; nuevo radio: 4187500.0\n",
      "R_i= 4187500.0 ; g= 5.589885878086986 ; error: -0.01011412191301364\n",
      "Delta_R: 62500.0 ; nuevo radio: 4250000.0\n",
      "valor de g= 5.589885878086986  para R_i= 4250000.0\n"
     ]
    }
   ],
   "source": [
    "g_real = 5.6\n",
    "error_g = 0.05\n",
    "error=1\n",
    "R_i=1000000\n",
    "Delta_R = 500000  #comenzamos con un \"paso\" de 500 km\n",
    "N_r = 1000 #número de valores de radios para hacer la integral\n",
    "\n",
    "while abs(error)>error_g:\n",
    "    g = gravedad (R_i,N_r)\n",
    "    error = g - g_real\n",
    "    print('R_i=',R_i, '; g=',g, '; error:',error)\n",
    "    if error > 0:\n",
    "        R_i = R_i - Delta_R\n",
    "        Delta_R = Delta_R/2\n",
    "    else:\n",
    "        R_i = R_i + Delta_R\n",
    "    print('Delta_R:', Delta_R, '; nuevo radio:',R_i)\n",
    "print('valor de g=',g, ' para R_i=',R_i)"
   ]
  },
  {
   "cell_type": "code",
   "execution_count": null,
   "metadata": {},
   "outputs": [],
   "source": []
  },
  {
   "cell_type": "code",
   "execution_count": null,
   "metadata": {},
   "outputs": [],
   "source": []
  },
  {
   "cell_type": "markdown",
   "metadata": {},
   "source": [
    " ### Problema"
   ]
  },
  {
   "cell_type": "markdown",
   "metadata": {},
   "source": [
    "Vamos a calcular cuántos huevos, de masa 100g, habría que lanzarle al cerdo, de masa 50kg, para detenerlo, si se movía con una velocidad de 1 m/s, y los huevos los disparábamos a 10m/s"
   ]
  },
  {
   "cell_type": "markdown",
   "metadata": {},
   "source": [
    "Primero  definimos los parámetros del problema:"
   ]
  },
  {
   "cell_type": "code",
   "execution_count": 2,
   "metadata": {},
   "outputs": [],
   "source": [
    "mc = 50 # masa del cerdo\n",
    "mh = 0.1  #masa de los huevos\n",
    "vc0 = 1 #velocidad inicial del cerdo\n",
    "vh = 10 #velocidad de los huevos\n",
    "\n",
    "#vci: \"velocidad del cerdo antes del choque\"\n",
    "#vcf: \"velocidad del cerdo después del choque\"\n",
    "vci = vc0 #inicializamos la variable \"velociad del cerdo antes del choque\"\n",
    "vcf = vc0 #inicializamos la variable \"velociad del cerdo después del choque\""
   ]
  },
  {
   "cell_type": "code",
   "execution_count": 3,
   "metadata": {},
   "outputs": [
    {
     "name": "stdout",
     "output_type": "stream",
     "text": [
      "51\n"
     ]
    }
   ],
   "source": [
    "n=0\n",
    "while vcf > 0: #ejecuta mientras que la velocidad final del cerso sea positiva (hacia la derecha)\n",
    "    vcf = (mc*vci - mh*vh)/(mc+mh)  #ecuación del choque ineslástico\n",
    "    vci = vcf  #después del choque, actualizamos la nueva velocidad \"antes\" del choque\n",
    "    mc = mc+mh  #después de comerse el huevo aumenta su masa\n",
    "    n = n+1  #lanzamos otro huevo\n",
    "print(n)"
   ]
  },
  {
   "cell_type": "code",
   "execution_count": null,
   "metadata": {},
   "outputs": [],
   "source": []
  }
 ],
 "metadata": {
  "kernelspec": {
   "display_name": "Python 3",
   "language": "python",
   "name": "python3"
  },
  "language_info": {
   "codemirror_mode": {
    "name": "ipython",
    "version": 3
   },
   "file_extension": ".py",
   "mimetype": "text/x-python",
   "name": "python",
   "nbconvert_exporter": "python",
   "pygments_lexer": "ipython3",
   "version": "3.8.3"
  }
 },
 "nbformat": 4,
 "nbformat_minor": 2
}
