{
 "cells": [
  {
   "cell_type": "markdown",
   "metadata": {
    "id": "qnWhF8VqNZaf"
   },
   "source": [
    "## ChemPy: A package useful for chemistry written in Python\n",
    "creado por Björn Dahlgren1 de la KTH Royal Institute of Technology, Stockholm, Sweden.\n",
    "\n",
    "Dahlgren, (2018). ChemPy: A package useful for chemistry written in Python. Journal of Open Source Software, 3(24), 565, https://doi.org/10.21105/joss.00565\n",
    "\n",
    "Vamos a trabajar con este paquete de química para python, que pensamos que podrá ser muy útil para los estudiantes de bachillerato.\n",
    "Este notebook está pensado para trabajar en Google Colab"
   ]
  },
  {
   "cell_type": "code",
   "execution_count": 1,
   "metadata": {
    "colab": {
     "base_uri": "https://localhost:8080/"
    },
    "id": "eYibpbcSyKUc",
    "outputId": "13b7c9a3-f391-40a6-ede5-5d0fcbf55966"
   },
   "outputs": [
    {
     "name": "stdout",
     "output_type": "stream",
     "text": [
      "Collecting chempy\n",
      "  Downloading chempy-0.8.2.tar.gz (406 kB)\n",
      "\u001b[K     |████████████████████████████████| 406 kB 569 kB/s eta 0:00:01\n",
      "\u001b[?25hRequirement already satisfied: numpy>1.11.3 in /Users/galeanojav/opt/anaconda3/lib/python3.8/site-packages (from chempy) (1.21.2)\n",
      "Requirement already satisfied: scipy>=1.0.1 in /Users/galeanojav/opt/anaconda3/lib/python3.8/site-packages (from chempy) (1.7.3)\n",
      "Requirement already satisfied: matplotlib>=2.2.3 in /Users/galeanojav/opt/anaconda3/lib/python3.8/site-packages (from chempy) (3.5.0)\n",
      "Collecting sympy!=1.2,>=1.1.1\n",
      "  Downloading sympy-1.9-py3-none-any.whl (6.2 MB)\n",
      "\u001b[K     |████████████████████████████████| 6.2 MB 619 kB/s eta 0:00:01     |████████████████████████▋       | 4.8 MB 590 kB/s eta 0:00:03\n",
      "\u001b[?25hCollecting quantities>=0.12.1\n",
      "  Downloading quantities-0.13.0.tar.gz (85 kB)\n",
      "\u001b[K     |████████████████████████████████| 85 kB 668 kB/s eta 0:00:01\n",
      "\u001b[?25hCollecting pyneqsys>=0.5.5\n",
      "  Downloading pyneqsys-0.5.7.tar.gz (29 kB)\n",
      "Collecting pyodesys>=0.14.1\n",
      "  Downloading pyodesys-0.14.1.tar.gz (242 kB)\n",
      "\u001b[K     |████████████████████████████████| 242 kB 907 kB/s eta 0:00:01\n",
      "\u001b[?25hRequirement already satisfied: pyparsing>=2.0.3 in /Users/galeanojav/opt/anaconda3/lib/python3.8/site-packages (from chempy) (3.0.4)\n",
      "Collecting sym>=0.3.4\n",
      "  Downloading sym-0.3.5.tar.gz (31 kB)\n",
      "Collecting pulp>=1.6.8\n",
      "  Downloading PuLP-2.6.0-py3-none-any.whl (14.2 MB)\n",
      "\u001b[K     |████████████████████████████████| 14.2 MB 572 kB/s eta 0:00:01\n",
      "\u001b[?25hCollecting dot2tex>=2.11.3\n",
      "  Using cached dot2tex-2.11.3-py2.py3-none-any.whl (36 kB)\n",
      "Requirement already satisfied: kiwisolver>=1.0.1 in /Users/galeanojav/opt/anaconda3/lib/python3.8/site-packages (from matplotlib>=2.2.3->chempy) (1.3.1)\n",
      "Requirement already satisfied: pillow>=6.2.0 in /Users/galeanojav/opt/anaconda3/lib/python3.8/site-packages (from matplotlib>=2.2.3->chempy) (8.4.0)\n",
      "Requirement already satisfied: fonttools>=4.22.0 in /Users/galeanojav/opt/anaconda3/lib/python3.8/site-packages (from matplotlib>=2.2.3->chempy) (4.25.0)\n",
      "Requirement already satisfied: packaging>=20.0 in /Users/galeanojav/opt/anaconda3/lib/python3.8/site-packages (from matplotlib>=2.2.3->chempy) (21.3)\n",
      "Requirement already satisfied: cycler>=0.10 in /Users/galeanojav/opt/anaconda3/lib/python3.8/site-packages (from matplotlib>=2.2.3->chempy) (0.11.0)\n",
      "Requirement already satisfied: python-dateutil>=2.7 in /Users/galeanojav/opt/anaconda3/lib/python3.8/site-packages (from matplotlib>=2.2.3->chempy) (2.8.2)\n",
      "Requirement already satisfied: notebook in /Users/galeanojav/opt/anaconda3/lib/python3.8/site-packages (from pyodesys>=0.14.1->chempy) (6.4.6)\n",
      "Requirement already satisfied: six>=1.5 in /Users/galeanojav/opt/anaconda3/lib/python3.8/site-packages (from python-dateutil>=2.7->matplotlib>=2.2.3->chempy) (1.16.0)\n",
      "Collecting mpmath>=0.19\n",
      "  Downloading mpmath-1.2.1-py3-none-any.whl (532 kB)\n",
      "\u001b[K     |████████████████████████████████| 532 kB 698 kB/s eta 0:00:01\n",
      "\u001b[?25hRequirement already satisfied: pyzmq>=17 in /Users/galeanojav/opt/anaconda3/lib/python3.8/site-packages (from notebook->pyodesys>=0.14.1->chempy) (22.3.0)\n",
      "Requirement already satisfied: ipython-genutils in /Users/galeanojav/opt/anaconda3/lib/python3.8/site-packages (from notebook->pyodesys>=0.14.1->chempy) (0.2.0)\n",
      "Requirement already satisfied: tornado>=6.1 in /Users/galeanojav/opt/anaconda3/lib/python3.8/site-packages (from notebook->pyodesys>=0.14.1->chempy) (6.1)\n",
      "Requirement already satisfied: Send2Trash>=1.8.0 in /Users/galeanojav/opt/anaconda3/lib/python3.8/site-packages (from notebook->pyodesys>=0.14.1->chempy) (1.8.0)\n",
      "Requirement already satisfied: jinja2 in /Users/galeanojav/opt/anaconda3/lib/python3.8/site-packages (from notebook->pyodesys>=0.14.1->chempy) (2.11.3)\n",
      "Requirement already satisfied: prometheus-client in /Users/galeanojav/opt/anaconda3/lib/python3.8/site-packages (from notebook->pyodesys>=0.14.1->chempy) (0.12.0)\n",
      "Requirement already satisfied: nbconvert in /Users/galeanojav/opt/anaconda3/lib/python3.8/site-packages (from notebook->pyodesys>=0.14.1->chempy) (6.3.0)\n",
      "Requirement already satisfied: nbformat in /Users/galeanojav/opt/anaconda3/lib/python3.8/site-packages (from notebook->pyodesys>=0.14.1->chempy) (5.1.3)\n",
      "Requirement already satisfied: argon2-cffi in /Users/galeanojav/opt/anaconda3/lib/python3.8/site-packages (from notebook->pyodesys>=0.14.1->chempy) (20.1.0)\n",
      "Requirement already satisfied: traitlets>=4.2.1 in /Users/galeanojav/opt/anaconda3/lib/python3.8/site-packages (from notebook->pyodesys>=0.14.1->chempy) (5.1.1)\n",
      "Requirement already satisfied: jupyter-core>=4.6.1 in /Users/galeanojav/opt/anaconda3/lib/python3.8/site-packages (from notebook->pyodesys>=0.14.1->chempy) (4.9.1)\n",
      "Requirement already satisfied: nest-asyncio>=1.5 in /Users/galeanojav/opt/anaconda3/lib/python3.8/site-packages (from notebook->pyodesys>=0.14.1->chempy) (1.5.1)\n",
      "Requirement already satisfied: jupyter-client>=5.3.4 in /Users/galeanojav/opt/anaconda3/lib/python3.8/site-packages (from notebook->pyodesys>=0.14.1->chempy) (7.1.0)\n",
      "Requirement already satisfied: ipykernel in /Users/galeanojav/opt/anaconda3/lib/python3.8/site-packages (from notebook->pyodesys>=0.14.1->chempy) (6.4.1)\n",
      "Requirement already satisfied: terminado>=0.8.3 in /Users/galeanojav/opt/anaconda3/lib/python3.8/site-packages (from notebook->pyodesys>=0.14.1->chempy) (0.9.4)\n",
      "Requirement already satisfied: entrypoints in /Users/galeanojav/opt/anaconda3/lib/python3.8/site-packages (from jupyter-client>=5.3.4->notebook->pyodesys>=0.14.1->chempy) (0.3)\n",
      "Requirement already satisfied: ptyprocess in /Users/galeanojav/opt/anaconda3/lib/python3.8/site-packages (from terminado>=0.8.3->notebook->pyodesys>=0.14.1->chempy) (0.7.0)\n",
      "Requirement already satisfied: cffi>=1.0.0 in /Users/galeanojav/opt/anaconda3/lib/python3.8/site-packages (from argon2-cffi->notebook->pyodesys>=0.14.1->chempy) (1.14.6)\n",
      "Requirement already satisfied: pycparser in /Users/galeanojav/opt/anaconda3/lib/python3.8/site-packages (from cffi>=1.0.0->argon2-cffi->notebook->pyodesys>=0.14.1->chempy) (2.21)\n",
      "Requirement already satisfied: debugpy<2.0,>=1.0.0 in /Users/galeanojav/opt/anaconda3/lib/python3.8/site-packages (from ipykernel->notebook->pyodesys>=0.14.1->chempy) (1.5.1)\n",
      "Requirement already satisfied: matplotlib-inline<0.2.0,>=0.1.0 in /Users/galeanojav/opt/anaconda3/lib/python3.8/site-packages (from ipykernel->notebook->pyodesys>=0.14.1->chempy) (0.1.2)\n",
      "Requirement already satisfied: appnope in /Users/galeanojav/opt/anaconda3/lib/python3.8/site-packages (from ipykernel->notebook->pyodesys>=0.14.1->chempy) (0.1.2)\n",
      "Requirement already satisfied: ipython<8.0,>=7.23.1 in /Users/galeanojav/opt/anaconda3/lib/python3.8/site-packages (from ipykernel->notebook->pyodesys>=0.14.1->chempy) (7.29.0)\n",
      "Requirement already satisfied: jedi>=0.16 in /Users/galeanojav/opt/anaconda3/lib/python3.8/site-packages (from ipython<8.0,>=7.23.1->ipykernel->notebook->pyodesys>=0.14.1->chempy) (0.17.1)\n",
      "Requirement already satisfied: prompt-toolkit!=3.0.0,!=3.0.1,<3.1.0,>=2.0.0 in /Users/galeanojav/opt/anaconda3/lib/python3.8/site-packages (from ipython<8.0,>=7.23.1->ipykernel->notebook->pyodesys>=0.14.1->chempy) (3.0.20)\n",
      "Requirement already satisfied: setuptools>=18.5 in /Users/galeanojav/opt/anaconda3/lib/python3.8/site-packages (from ipython<8.0,>=7.23.1->ipykernel->notebook->pyodesys>=0.14.1->chempy) (58.0.4)\n",
      "Requirement already satisfied: pickleshare in /Users/galeanojav/opt/anaconda3/lib/python3.8/site-packages (from ipython<8.0,>=7.23.1->ipykernel->notebook->pyodesys>=0.14.1->chempy) (0.7.5)\n",
      "Requirement already satisfied: pexpect>4.3 in /Users/galeanojav/opt/anaconda3/lib/python3.8/site-packages (from ipython<8.0,>=7.23.1->ipykernel->notebook->pyodesys>=0.14.1->chempy) (4.8.0)\n",
      "Requirement already satisfied: backcall in /Users/galeanojav/opt/anaconda3/lib/python3.8/site-packages (from ipython<8.0,>=7.23.1->ipykernel->notebook->pyodesys>=0.14.1->chempy) (0.2.0)\n",
      "Requirement already satisfied: pygments in /Users/galeanojav/opt/anaconda3/lib/python3.8/site-packages (from ipython<8.0,>=7.23.1->ipykernel->notebook->pyodesys>=0.14.1->chempy) (2.10.0)\n",
      "Requirement already satisfied: decorator in /Users/galeanojav/opt/anaconda3/lib/python3.8/site-packages (from ipython<8.0,>=7.23.1->ipykernel->notebook->pyodesys>=0.14.1->chempy) (5.1.0)\n",
      "Requirement already satisfied: parso<0.8.0,>=0.7.0 in /Users/galeanojav/opt/anaconda3/lib/python3.8/site-packages (from jedi>=0.16->ipython<8.0,>=7.23.1->ipykernel->notebook->pyodesys>=0.14.1->chempy) (0.7.0)\n"
     ]
    },
    {
     "name": "stdout",
     "output_type": "stream",
     "text": [
      "Requirement already satisfied: wcwidth in /Users/galeanojav/opt/anaconda3/lib/python3.8/site-packages (from prompt-toolkit!=3.0.0,!=3.0.1,<3.1.0,>=2.0.0->ipython<8.0,>=7.23.1->ipykernel->notebook->pyodesys>=0.14.1->chempy) (0.2.5)\n",
      "Requirement already satisfied: MarkupSafe>=0.23 in /Users/galeanojav/opt/anaconda3/lib/python3.8/site-packages (from jinja2->notebook->pyodesys>=0.14.1->chempy) (2.0.1)\n",
      "Requirement already satisfied: nbclient<0.6.0,>=0.5.0 in /Users/galeanojav/opt/anaconda3/lib/python3.8/site-packages (from nbconvert->notebook->pyodesys>=0.14.1->chempy) (0.5.3)\n",
      "Requirement already satisfied: jupyterlab-pygments in /Users/galeanojav/opt/anaconda3/lib/python3.8/site-packages (from nbconvert->notebook->pyodesys>=0.14.1->chempy) (0.1.2)\n",
      "Requirement already satisfied: bleach in /Users/galeanojav/opt/anaconda3/lib/python3.8/site-packages (from nbconvert->notebook->pyodesys>=0.14.1->chempy) (4.0.0)\n",
      "Requirement already satisfied: testpath in /Users/galeanojav/opt/anaconda3/lib/python3.8/site-packages (from nbconvert->notebook->pyodesys>=0.14.1->chempy) (0.5.0)\n",
      "Requirement already satisfied: pandocfilters>=1.4.1 in /Users/galeanojav/opt/anaconda3/lib/python3.8/site-packages (from nbconvert->notebook->pyodesys>=0.14.1->chempy) (1.4.3)\n",
      "Requirement already satisfied: defusedxml in /Users/galeanojav/opt/anaconda3/lib/python3.8/site-packages (from nbconvert->notebook->pyodesys>=0.14.1->chempy) (0.7.1)\n",
      "Requirement already satisfied: mistune<2,>=0.8.1 in /Users/galeanojav/opt/anaconda3/lib/python3.8/site-packages (from nbconvert->notebook->pyodesys>=0.14.1->chempy) (0.8.4)\n",
      "Requirement already satisfied: async-generator in /Users/galeanojav/opt/anaconda3/lib/python3.8/site-packages (from nbclient<0.6.0,>=0.5.0->nbconvert->notebook->pyodesys>=0.14.1->chempy) (1.10)\n",
      "Requirement already satisfied: jsonschema!=2.5.0,>=2.4 in /Users/galeanojav/opt/anaconda3/lib/python3.8/site-packages (from nbformat->notebook->pyodesys>=0.14.1->chempy) (3.2.0)\n",
      "Requirement already satisfied: attrs>=17.4.0 in /Users/galeanojav/opt/anaconda3/lib/python3.8/site-packages (from jsonschema!=2.5.0,>=2.4->nbformat->notebook->pyodesys>=0.14.1->chempy) (21.2.0)\n",
      "Requirement already satisfied: pyrsistent>=0.14.0 in /Users/galeanojav/opt/anaconda3/lib/python3.8/site-packages (from jsonschema!=2.5.0,>=2.4->nbformat->notebook->pyodesys>=0.14.1->chempy) (0.18.0)\n",
      "Requirement already satisfied: webencodings in /Users/galeanojav/opt/anaconda3/lib/python3.8/site-packages (from bleach->nbconvert->notebook->pyodesys>=0.14.1->chempy) (0.5.1)\n",
      "Building wheels for collected packages: chempy, pyneqsys, pyodesys, quantities, sym\n",
      "  Building wheel for chempy (setup.py) ... \u001b[?25ldone\n",
      "\u001b[?25h  Created wheel for chempy: filename=chempy-0.8.2-py2.py3-none-any.whl size=208090 sha256=9104e57bbcc9f8175f4b69738ac06f8e5dbe3c262024da42f8ae4bde4fed47b2\n",
      "  Stored in directory: /Users/galeanojav/Library/Caches/pip/wheels/66/3c/8f/06f2c19eb49cca83bd2bcdd4f736c800677470d28804aea1e9\n",
      "  Building wheel for pyneqsys (setup.py) ... \u001b[?25ldone\n",
      "\u001b[?25h  Created wheel for pyneqsys: filename=pyneqsys-0.5.7-py2.py3-none-any.whl size=27285 sha256=2c850afb5ab116bcb928aece053a2c3102fcc0445a20a20c304560f38765558e\n",
      "  Stored in directory: /Users/galeanojav/Library/Caches/pip/wheels/8b/4c/7a/984a4009dc588c6658eb69869eca5d14ccc9ccca70588cab10\n",
      "  Building wheel for pyodesys (setup.py) ... \u001b[?25ldone\n",
      "\u001b[?25h  Created wheel for pyodesys: filename=pyodesys-0.14.1-py2.py3-none-any.whl size=126216 sha256=0bbf63ed4821c19641ab27ce9efc290ba025d4b96261450216c1f6db99dd92b8\n",
      "  Stored in directory: /Users/galeanojav/Library/Caches/pip/wheels/a7/77/42/457b6815711ab58b9acc5f3d1a42b77246abd732c611969367\n",
      "  Building wheel for quantities (setup.py) ... \u001b[?25ldone\n",
      "\u001b[?25h  Created wheel for quantities: filename=quantities-0.13.0-py3-none-any.whl size=77860 sha256=4597ad167f37a157941451c926de8c4b37f399ce15a056d4fcc1922454951b8c\n",
      "  Stored in directory: /Users/galeanojav/Library/Caches/pip/wheels/a2/54/36/12af6e58a292a912f4bcd62d146d593fadcd414a258a970cf2\n",
      "  Building wheel for sym (setup.py) ... \u001b[?25ldone\n",
      "\u001b[?25h  Created wheel for sym: filename=sym-0.3.5-py2.py3-none-any.whl size=21095 sha256=82108f914617c40a12678a51b6f6b16407e56337cbf3668267f80d9e1624c2a3\n",
      "  Stored in directory: /Users/galeanojav/Library/Caches/pip/wheels/3b/50/ab/4960988b0356ffd244c85773a01f5dda8cc68d5f1d41626a1a\n",
      "Successfully built chempy pyneqsys pyodesys quantities sym\n",
      "Installing collected packages: mpmath, sympy, sym, quantities, pyodesys, pyneqsys, pulp, dot2tex, chempy\n",
      "Successfully installed chempy-0.8.2 dot2tex-2.11.3 mpmath-1.2.1 pulp-2.6.0 pyneqsys-0.5.7 pyodesys-0.14.1 quantities-0.13.0 sym-0.3.5 sympy-1.9\n"
     ]
    }
   ],
   "source": [
    "!pip install chempy"
   ]
  },
  {
   "cell_type": "markdown",
   "metadata": {
    "id": "EsuCioBu7PfW"
   },
   "source": [
    "Parece que tenemos un error con la versión de sympy (python simbólico), así que voy a actualizar sympy, para no tener problemas."
   ]
  },
  {
   "cell_type": "code",
   "execution_count": 3,
   "metadata": {
    "colab": {
     "base_uri": "https://localhost:8080/"
    },
    "id": "QvNHShpj2Jal",
    "outputId": "f937be65-754e-4234-ff63-2277c2cb0954"
   },
   "outputs": [
    {
     "name": "stdout",
     "output_type": "stream",
     "text": [
      "Collecting sympy\n",
      "\u001b[?25l  Downloading https://files.pythonhosted.org/packages/ff/69/b16fc81b939d3efdd0b552f2e3e54f7fa1423d0c320cced2e69e675dde26/sympy-1.7.1-py3-none-any.whl (5.9MB)\n",
      "\u001b[K     |████████████████████████████████| 5.9MB 11.8MB/s \n",
      "\u001b[?25hRequirement already satisfied, skipping upgrade: mpmath>=0.19 in /usr/local/lib/python3.6/dist-packages (from sympy) (1.1.0)\n",
      "Installing collected packages: sympy\n",
      "  Found existing installation: sympy 1.1.1\n",
      "    Uninstalling sympy-1.1.1:\n",
      "      Successfully uninstalled sympy-1.1.1\n",
      "Successfully installed sympy-1.7.1\n"
     ]
    }
   ],
   "source": [
    "!pip install --upgrade sympy"
   ]
  },
  {
   "cell_type": "code",
   "execution_count": 2,
   "metadata": {
    "id": "VD0wfYji3Nx9"
   },
   "outputs": [],
   "source": [
    "import chempy"
   ]
  },
  {
   "cell_type": "markdown",
   "metadata": {
    "id": "_mHfeVJ67jHR"
   },
   "source": [
    "Parece por tanto que ya puedo escribir mis programas para usar chempy."
   ]
  },
  {
   "cell_type": "markdown",
   "metadata": {
    "id": "d8eL95Gg-403"
   },
   "source": [
    "## Síntesis del Amoniaco\n",
    "\n",
    "Como primer ejemplo, vamos a ver una cosa sencilla la síntesis del amoniaco según el proceso Haber-Bosch; gracias a lo cual le sirvió para ser valedor del Premio Nobel de Química en 1918 al científico Fritz Haber.\n",
    "\n",
    "\\begin{equation}\n",
    "N_2 + H_2 \\rightarrow NH_3\n",
    "\\end{equation}\n",
    "\n",
    "La reacción es sencilla y casi de manera inmediata podemos hacer la aproximación para hacer el ajuste estequiométrico. \n",
    "Pero hagámoslo con Python.\n"
   ]
  },
  {
   "cell_type": "code",
   "execution_count": 3,
   "metadata": {
    "id": "IsD7DS0cBLC1"
   },
   "outputs": [],
   "source": [
    "from chempy import balance_stoichiometry"
   ]
  },
  {
   "cell_type": "markdown",
   "metadata": {
    "id": "hVgG3FIb9Czy"
   },
   "source": [
    "Vamos a importar una función que nos va a ayudar a escribir la fórmula como es la función `pprint`, y de la librería de `chempy` vamos a usar `balance_stoichiometry`. "
   ]
  },
  {
   "cell_type": "code",
   "execution_count": 4,
   "metadata": {
    "id": "-P4NoMRyCVjT"
   },
   "outputs": [
    {
     "name": "stdout",
     "output_type": "stream",
     "text": [
      "{'H2': 3, 'N2': 1}\n"
     ]
    }
   ],
   "source": [
    "r,p=balance_stoichiometry({'N2','H2'},{'NH3'})\n",
    "print(dict(r))"
   ]
  },
  {
   "cell_type": "code",
   "execution_count": 5,
   "metadata": {
    "colab": {
     "base_uri": "https://localhost:8080/"
    },
    "id": "JBCR2Za3Ck4r",
    "outputId": "848a0848-c41a-4851-e780-a0a631ed37da"
   },
   "outputs": [
    {
     "name": "stdout",
     "output_type": "stream",
     "text": [
      "{'NH3': 2}\n"
     ]
    }
   ],
   "source": [
    "print(dict(p))"
   ]
  },
  {
   "cell_type": "markdown",
   "metadata": {
    "id": "7ZFA_nTkDVyd"
   },
   "source": [
    "Como vemos la reacción ajustada estequiométricamente es:\n",
    "\n",
    "\\begin{equation}\n",
    "N_2 + 3H_2 \\rightarrow 2NH_3\n",
    "\\end{equation}"
   ]
  },
  {
   "cell_type": "markdown",
   "metadata": {
    "id": "3a_qnE42D9Gs"
   },
   "source": [
    "Pero supongamos que queremos hacer algún cálculo más como por ejemplo saber el peso molecular del amoniaco.\n",
    "Primero definiremos la fórmula, añadiremos su composición con los pesos atómicos, para obtener su peso molecular."
   ]
  },
  {
   "cell_type": "code",
   "execution_count": 6,
   "metadata": {
    "id": "RUmm7YI1EQoK"
   },
   "outputs": [],
   "source": [
    "from chempy import Substance\n",
    "\n",
    "NH3 = Substance.from_formula('NH3')\n"
   ]
  },
  {
   "cell_type": "code",
   "execution_count": 7,
   "metadata": {
    "colab": {
     "base_uri": "https://localhost:8080/",
     "height": 37
    },
    "id": "QmProagDEiTt",
    "outputId": "efde7151-c05d-4c2f-bb32-1d8167c6fc58"
   },
   "outputs": [
    {
     "data": {
      "text/html": [
       "NH<sub>3</sub>"
      ],
      "text/plain": [
       "<Substance(name=NH3, ...)>"
      ]
     },
     "execution_count": 7,
     "metadata": {},
     "output_type": "execute_result"
    }
   ],
   "source": [
    "NH3"
   ]
  },
  {
   "cell_type": "code",
   "execution_count": 8,
   "metadata": {},
   "outputs": [
    {
     "name": "stdout",
     "output_type": "stream",
     "text": [
      "{7: 1, 1: 3}\n"
     ]
    }
   ],
   "source": [
    "print(NH3.composition)"
   ]
  },
  {
   "cell_type": "code",
   "execution_count": 9,
   "metadata": {
    "colab": {
     "base_uri": "https://localhost:8080/"
    },
    "id": "5uXslnJyEmDp",
    "outputId": "3842bfbd-5eef-4113-cdb9-27e7cbc5d87b"
   },
   "outputs": [
    {
     "name": "stdout",
     "output_type": "stream",
     "text": [
      "17.031\n"
     ]
    }
   ],
   "source": [
    "print(NH3.mass)\n"
   ]
  },
  {
   "cell_type": "code",
   "execution_count": 10,
   "metadata": {},
   "outputs": [
    {
     "name": "stdout",
     "output_type": "stream",
     "text": [
      "{7: 1, 1: 4, 0: 1}\n"
     ]
    }
   ],
   "source": [
    "NH4_ion = Substance.from_formula('NH4+')\n",
    "print(NH4_ion.composition)"
   ]
  },
  {
   "cell_type": "code",
   "execution_count": 11,
   "metadata": {},
   "outputs": [
    {
     "name": "stdout",
     "output_type": "stream",
     "text": [
      "18.038451100000003\n"
     ]
    }
   ],
   "source": [
    "print(NH4_ion.mass)"
   ]
  },
  {
   "cell_type": "markdown",
   "metadata": {
    "id": "emBNWtx4JVYf"
   },
   "source": [
    "A partir de aquí por ejemplo podríamos hacer pequeñas funciones que nos calcularan número de moles y número de gramos en una reacción a partir de los datos de algún problema clásico de estequiometría de primero de bachillerato."
   ]
  },
  {
   "cell_type": "markdown",
   "metadata": {
    "id": "QWKgpP4qK_Ly"
   },
   "source": [
    "## Alguna composición más difícil\n",
    "Por ejemplo se me ocurre que podemos tener que escribir alguna composición algo más compleja con aniones o cationes como por ejemplo el ferricianuro $Fe(CN)_{6}^{3-}$\n",
    "\n",
    "Podemos buscarlo en wikipedia, [Ferricianuro](https://es.wikipedia.org/wiki/Ferricianuro)"
   ]
  },
  {
   "cell_type": "code",
   "execution_count": 13,
   "metadata": {
    "colab": {
     "base_uri": "https://localhost:8080/"
    },
    "id": "oq0q4GwmKON7",
    "outputId": "30fabf0c-8743-4059-862f-a1f0d90cd648"
   },
   "outputs": [
    {
     "name": "stdout",
     "output_type": "stream",
     "text": [
      "{26: 1, 6: 6, 7: 6, 0: -3}\n"
     ]
    }
   ],
   "source": [
    "from chempy import Substance\n",
    "ferricyanide = Substance.from_formula('Fe(CN)6-3')\n",
    "print(ferricyanide.composition)"
   ]
  },
  {
   "cell_type": "markdown",
   "metadata": {
    "id": "mcxtF7gqME4L"
   },
   "source": [
    "La parte interesante es que tnemos que poner el $0$ como la parte electrónica del compuesto y ponerle su valor, en este caso $-3$"
   ]
  },
  {
   "cell_type": "code",
   "execution_count": 14,
   "metadata": {
    "colab": {
     "base_uri": "https://localhost:8080/"
    },
    "id": "oxZ6fbygKTf6",
    "outputId": "ab8e623a-a4f8-4f7f-f480-82058acd37d2"
   },
   "outputs": [
    {
     "name": "stdout",
     "output_type": "stream",
     "text": [
      "Fe(CN)₆³⁻\n"
     ]
    }
   ],
   "source": [
    "print(ferricyanide.unicode_name)"
   ]
  },
  {
   "cell_type": "code",
   "execution_count": 15,
   "metadata": {
    "colab": {
     "base_uri": "https://localhost:8080/"
    },
    "id": "MHcn9RSDKp9s",
    "outputId": "07a19204-2b61-4f7b-dd9d-5f96491faf85"
   },
   "outputs": [
    {
     "name": "stdout",
     "output_type": "stream",
     "text": [
      "Fe(CN)<sub>6</sub><sup>3-</sup>\n"
     ]
    }
   ],
   "source": [
    "print(ferricyanide.html_name)"
   ]
  },
  {
   "cell_type": "code",
   "execution_count": 16,
   "metadata": {
    "colab": {
     "base_uri": "https://localhost:8080/"
    },
    "id": "NNrzICBAKJhG",
    "outputId": "f4705603-0fc4-486e-a4ff-62a303b7af06"
   },
   "outputs": [
    {
     "name": "stdout",
     "output_type": "stream",
     "text": [
      "211.955\n"
     ]
    }
   ],
   "source": [
    "print('%.3f' % ferricyanide.mass)"
   ]
  },
  {
   "cell_type": "markdown",
   "metadata": {
    "id": "mLpWhYcR7w2h"
   },
   "source": [
    "## Reacción de los cohetes de la NASA.\n",
    "Parece que en los últimos años la NASA quiere volver a retomar los viajes a la Luna, como salto a viajes más largos, como por ejemplo Marte. \n",
    "Curiosamente, los chohetes que tenemos en la actualidad son peores que los que utilizaron en las misiones Apolo. \n",
    "\n",
    "Veamos alguna de esas reacciones para impulsar los cohetes e intentemos hacer el balance estequiométrico de dichas reacciones.\n"
   ]
  },
  {
   "cell_type": "code",
   "execution_count": 17,
   "metadata": {
    "id": "Q0VfVj4e7LAf"
   },
   "outputs": [],
   "source": [
    "from chempy import balance_stoichiometry\n",
    "from chempy import mass_fractions"
   ]
  },
  {
   "cell_type": "code",
   "execution_count": 18,
   "metadata": {
    "id": "HcMRTQi98iIb"
   },
   "outputs": [],
   "source": [
    "reac, prod = balance_stoichiometry({'NH4ClO4', 'Al'},{'Al2O3', 'HCl', 'H2O', 'N2'})"
   ]
  },
  {
   "cell_type": "code",
   "execution_count": 19,
   "metadata": {
    "colab": {
     "base_uri": "https://localhost:8080/"
    },
    "id": "LunMkNF0-EXo",
    "outputId": "2525d167-0cc7-4bea-e40f-271fdc6bb9c3"
   },
   "outputs": [
    {
     "name": "stdout",
     "output_type": "stream",
     "text": [
      "{'Al': 10, 'NH4ClO4': 6}\n"
     ]
    }
   ],
   "source": [
    "print(dict(reac))"
   ]
  },
  {
   "cell_type": "code",
   "execution_count": 20,
   "metadata": {
    "colab": {
     "base_uri": "https://localhost:8080/"
    },
    "id": "wgjJOvLj-LhO",
    "outputId": "43773ab1-1c6b-4ae9-e71a-923ed7950eee"
   },
   "outputs": [
    {
     "name": "stdout",
     "output_type": "stream",
     "text": [
      "{'Al2O3': 5, 'H2O': 9, 'HCl': 6, 'N2': 3}\n"
     ]
    }
   ],
   "source": [
    "print(dict(prod))"
   ]
  },
  {
   "cell_type": "code",
   "execution_count": 22,
   "metadata": {},
   "outputs": [
    {
     "name": "stdout",
     "output_type": "stream",
     "text": [
      "{'Al': 0.276811693993175, 'NH4ClO4': 0.723188306006825}\n"
     ]
    }
   ],
   "source": [
    "mass_reac = mass_fractions(reac)\n",
    "print(mass_reac)"
   ]
  },
  {
   "cell_type": "code",
   "execution_count": 23,
   "metadata": {},
   "outputs": [
    {
     "name": "stdout",
     "output_type": "stream",
     "text": [
      "Reactivo:  Al ; fracción de masa: 27.68 %\n",
      "Reactivo:  NH4ClO4 ; fracción de masa: 72.32 %\n"
     ]
    }
   ],
   "source": [
    "for react in mass_reac:\n",
    "    print('Reactivo: ',react,'; fracción de masa:',round(mass_reac[react]*100,2),'%')"
   ]
  },
  {
   "cell_type": "markdown",
   "metadata": {
    "id": "Ank9h00cRhv6"
   },
   "source": [
    "## La Tabla periódica\n",
    "\n",
    "Una de las maravillas de la ciencia que nos va a tocar explicar a nuestros alumnos es la Tabla periódica de Mendeley. Es probablemente una de las maravillas de la ciencia, aunque suele darnos mucha guerra a la hora de explicarla. Os proponemos un paquete llamado `mendeleev` y que nos va a ayudar con todos esos datos que tienen que estudiar nuestros alumnos.\n",
    "\n",
    "L. M. Mentel, mendeleev - A Python resource for properties of chemical elements, ions and isotopes. , 2014– .\n",
    "Available at: https://github.com/lmmentel/mendeleev\n"
   ]
  },
  {
   "cell_type": "code",
   "execution_count": 24,
   "metadata": {
    "colab": {
     "base_uri": "https://localhost:8080/"
    },
    "id": "9X4L9BqM-QYw",
    "outputId": "d6005ef7-666e-4e2a-ee6b-87cdeadd3f06"
   },
   "outputs": [
    {
     "name": "stdout",
     "output_type": "stream",
     "text": [
      "Collecting mendeleev\n",
      "  Downloading mendeleev-0.9.0-py3-none-any.whl (178 kB)\n",
      "\u001b[K     |████████████████████████████████| 178 kB 397 kB/s eta 0:00:01\n",
      "\u001b[?25hRequirement already satisfied: six<2.0.0,>=1.15.0 in /Users/galeanojav/opt/anaconda3/lib/python3.8/site-packages (from mendeleev) (1.16.0)\n",
      "Requirement already satisfied: colorama<0.5.0,>=0.4.4 in /Users/galeanojav/opt/anaconda3/lib/python3.8/site-packages (from mendeleev) (0.4.4)\n",
      "Requirement already satisfied: numpy<2.0.0,>=1.19.5 in /Users/galeanojav/opt/anaconda3/lib/python3.8/site-packages (from mendeleev) (1.21.2)\n",
      "Requirement already satisfied: SQLAlchemy<2.0.0,>=1.3.23 in /Users/galeanojav/opt/anaconda3/lib/python3.8/site-packages (from mendeleev) (1.4.27)\n",
      "Requirement already satisfied: Pygments<3.0.0,>=2.8.0 in /Users/galeanojav/opt/anaconda3/lib/python3.8/site-packages (from mendeleev) (2.10.0)\n",
      "Requirement already satisfied: pandas>=0.25.0 in /Users/galeanojav/opt/anaconda3/lib/python3.8/site-packages (from mendeleev) (1.3.5)\n",
      "Collecting pyfiglet<0.9,>=0.8.post1\n",
      "  Downloading pyfiglet-0.8.post1-py2.py3-none-any.whl (865 kB)\n",
      "\u001b[K     |████████████████████████████████| 865 kB 608 kB/s eta 0:00:01\n",
      "\u001b[?25hRequirement already satisfied: python-dateutil>=2.7.3 in /Users/galeanojav/opt/anaconda3/lib/python3.8/site-packages (from pandas>=0.25.0->mendeleev) (2.8.2)\n",
      "Requirement already satisfied: pytz>=2017.3 in /Users/galeanojav/opt/anaconda3/lib/python3.8/site-packages (from pandas>=0.25.0->mendeleev) (2021.3)\n",
      "Requirement already satisfied: greenlet!=0.4.17 in /Users/galeanojav/opt/anaconda3/lib/python3.8/site-packages (from SQLAlchemy<2.0.0,>=1.3.23->mendeleev) (1.1.1)\n",
      "Installing collected packages: pyfiglet, mendeleev\n",
      "Successfully installed mendeleev-0.9.0 pyfiglet-0.8.post1\n"
     ]
    }
   ],
   "source": [
    "! pip install mendeleev"
   ]
  },
  {
   "cell_type": "markdown",
   "metadata": {
    "id": "kkxSVJidTYX0"
   },
   "source": [
    "Con este paquete instalado podemos acceder de manera simple a los elementos de la la tabla periódica importando los elementos de `mendeleev` como símbolos."
   ]
  },
  {
   "cell_type": "code",
   "execution_count": 25,
   "metadata": {
    "colab": {
     "base_uri": "https://localhost:8080/"
    },
    "id": "TUepDYSoOjSw",
    "outputId": "1c97316a-6f51-4f60-efbe-d94ae0de8887"
   },
   "outputs": [
    {
     "name": "stdout",
     "output_type": "stream",
     "text": [
      "Si's name:  Silicon\n",
      "Fe's atomic number: 26\n",
      "O's atomic weight:  15.999\n"
     ]
    }
   ],
   "source": [
    "from mendeleev import Si, Fe, O\n",
    "print(\"Si's name: \", Si.name)\n",
    "print(\"Fe's atomic number:\", Fe.atomic_number)\n",
    "print(\"O's atomic weight: \", O.atomic_weight)"
   ]
  },
  {
   "cell_type": "markdown",
   "metadata": {
    "id": "VkZeWOEmUZKf"
   },
   "source": [
    "Una manera alternativa de acceder a los datos es usando la función element que devuelve un objeto de tipo elemento dependiendo de los argumentos de la función. "
   ]
  },
  {
   "cell_type": "code",
   "execution_count": 26,
   "metadata": {
    "id": "LplUMNNNO0HY"
   },
   "outputs": [],
   "source": [
    "from mendeleev import element\n"
   ]
  },
  {
   "cell_type": "markdown",
   "metadata": {
    "id": "nmAzt08-VCaB"
   },
   "source": [
    "El método `element` acepta tres identificadores: **número atómico**, **símbolo atómico** o **nombre del elemento** en inglés. Por ejemplo el silicio *Si*"
   ]
  },
  {
   "cell_type": "code",
   "execution_count": 27,
   "metadata": {
    "colab": {
     "base_uri": "https://localhost:8080/"
    },
    "id": "RzpEDNTeO7NP",
    "outputId": "a961d9d3-29e9-4bc2-d236-176a28db4749"
   },
   "outputs": [
    {
     "data": {
      "text/plain": [
       "Element(\n",
       "\tabundance_crust=282000.0,\n",
       " \tabundance_sea=2.2,\n",
       " \tannotation='',\n",
       " \tatomic_number=14,\n",
       " \tatomic_radius=110.0,\n",
       " \tatomic_radius_rahm=231.99999999999997,\n",
       " \tatomic_volume=12.1,\n",
       " \tatomic_weight=28.085,\n",
       " \tatomic_weight_uncertainty=None,\n",
       " \tblock='p',\n",
       " \tboiling_point=2628.0,\n",
       " \tc6=305.0,\n",
       " \tc6_gb=308.0,\n",
       " \tcas='7440-21-3',\n",
       " \tcovalent_radius_bragg=117.0,\n",
       " \tcovalent_radius_cordero=111.00000000000001,\n",
       " \tcovalent_radius_pyykko=115.99999999999999,\n",
       " \tcovalent_radius_pyykko_double=107.0,\n",
       " \tcovalent_radius_pyykko_triple=102.0,\n",
       " \tcpk_color='#daa520',\n",
       " \tdensity=2.3296,\n",
       " \tdescription=\"Metalloid element belonging to group 14 of the periodic table. It is the second most abundant element in the Earth's crust, making up 25.7% of it by weight. Chemically less reactive than carbon. First identified by Lavoisier in 1787 and first isolated in 1823 by Berzelius.\",\n",
       " \tdipole_polarizability=37.3,\n",
       " \tdipole_polarizability_unc=0.7,\n",
       " \tdiscoverers='Jöns Berzelius',\n",
       " \tdiscovery_location='Sweden',\n",
       " \tdiscovery_year=1824,\n",
       " \tec=<ElectronicConfiguration(conf=\"1s2 2s2 2p6 3s2 3p2\")>,\n",
       " \teconf='[Ne] 3s2 3p2',\n",
       " \telectron_affinity=1.3895211,\n",
       " \ten_allen=11.33,\n",
       " \ten_ghosh=0.178503,\n",
       " \ten_pauling=1.9,\n",
       " \tevaporation_heat=383.0,\n",
       " \tfusion_heat=50.6,\n",
       " \tgas_basicity=814.1,\n",
       " \tgeochemical_class='major',\n",
       " \tglawe_number=85,\n",
       " \tgoldschmidt_class='litophile',\n",
       " \tgroup=<Group(symbol=IVA, name=Carbon group)>,\n",
       " \tgroup_id=14,\n",
       " \theat_of_formation=450.0,\n",
       " \tionic_radii=[IonicRadius(\n",
       "\tatomic_number=14,\n",
       " \tcharge=4,\n",
       " \tcoordination='IV',\n",
       " \tcrystal_radius=40.0,\n",
       " \teconf='2p6',\n",
       " \tid=379,\n",
       " \tionic_radius=26.0,\n",
       " \tmost_reliable=True,\n",
       " \torigin='',\n",
       " \tspin='',\n",
       "), IonicRadius(\n",
       "\tatomic_number=14,\n",
       " \tcharge=4,\n",
       " \tcoordination='VI',\n",
       " \tcrystal_radius=54.0,\n",
       " \teconf='2p6',\n",
       " \tid=380,\n",
       " \tionic_radius=40.0,\n",
       " \tmost_reliable=True,\n",
       " \torigin='from r^3 vs V plots, ',\n",
       " \tspin='',\n",
       ")],\n",
       " \tis_monoisotopic=None,\n",
       " \tis_radioactive=False,\n",
       " \tisotopes=[<Isotope(Z=14, A=28, mass=27.976926535, abundance=0.92191)>, <Isotope(Z=14, A=29, mass=28.976494665, abundance=0.04699)>, <Isotope(Z=14, A=30, mass=29.97377001, abundance=0.0311)>],\n",
       " \tjmol_color='#f0c8a0',\n",
       " \tlattice_constant=5.43,\n",
       " \tlattice_structure='DIA',\n",
       " \tmelting_point=1683.0,\n",
       " \tmendeleev_number=88,\n",
       " \tmetallic_radius=117.0,\n",
       " \tmetallic_radius_c12=138.0,\n",
       " \tmolcas_gv_color='#f0c8a0',\n",
       " \tname='Silicon',\n",
       " \tname_origin='Latin: silex, silicus, (flint).',\n",
       " \tperiod=3,\n",
       " \tpettifor_number=85,\n",
       " \tproton_affinity=837.0,\n",
       " \tscreening_constants=[<ScreeningConstant(Z=  14, n=  1, s=s, screening=    0.4255)>, <ScreeningConstant(Z=  14, n=  2, s=p, screening=    4.0550)>, <ScreeningConstant(Z=  14, n=  2, s=s, screening=    4.9800)>, <ScreeningConstant(Z=  14, n=  3, s=p, screening=    9.7148)>, <ScreeningConstant(Z=  14, n=  3, s=s, screening=    9.0968)>],\n",
       " \tsources='Makes up major portion of clay, granite, quartz (SiO2), and sand. Commercial production depends on a reaction between sand (SiO2) and carbon at a temperature of around 2200 °C.',\n",
       " \tspecific_heat=0.703,\n",
       " \tsymbol='Si',\n",
       " \tthermal_conductivity=149.0,\n",
       " \tuses='Used in glass as silicon dioxide (SiO2). Silicon carbide (SiC) is one of the hardest substances known and used in polishing. Also the crystalline form is used in semiconductors.',\n",
       " \tvdw_radius=210.0,\n",
       " \tvdw_radius_alvarez=219.0,\n",
       " \tvdw_radius_batsanov=210.0,\n",
       " \tvdw_radius_bondi=210.0,\n",
       " \tvdw_radius_dreiding=426.99999999999994,\n",
       " \tvdw_radius_mm3=229.0,\n",
       " \tvdw_radius_rt=None,\n",
       " \tvdw_radius_truhlar=None,\n",
       " \tvdw_radius_uff=429.5,\n",
       ")"
      ]
     },
     "execution_count": 27,
     "metadata": {},
     "output_type": "execute_result"
    }
   ],
   "source": [
    "si = element('Si')\n",
    "si"
   ]
  },
  {
   "cell_type": "markdown",
   "metadata": {
    "id": "7UOKlcGaVg_n"
   },
   "source": [
    "Lo impresionante es que si llamamos al elemento tenemos una enorme cantidad de información sobre el elemento.\n",
    "\n",
    "Podemos llamarlo también por su número atómico, por ejemplo el $13$ o por su nombre en inglés, por ejemplo Oxygen"
   ]
  },
  {
   "cell_type": "code",
   "execution_count": 28,
   "metadata": {
    "colab": {
     "base_uri": "https://localhost:8080/"
    },
    "id": "va1UDDG8O-nq",
    "outputId": "dc6bc752-95bf-44dc-ceb8-c699c252c66d"
   },
   "outputs": [
    {
     "name": "stdout",
     "output_type": "stream",
     "text": [
      "Aluminum\n"
     ]
    }
   ],
   "source": [
    "al = element(13)\n",
    "print(al.name)"
   ]
  },
  {
   "cell_type": "code",
   "execution_count": 29,
   "metadata": {
    "colab": {
     "base_uri": "https://localhost:8080/"
    },
    "id": "P2jfcANKPHTO",
    "outputId": "67b7ca8e-d9cc-4688-c99a-d77dd097183c"
   },
   "outputs": [
    {
     "name": "stdout",
     "output_type": "stream",
     "text": [
      "8\n"
     ]
    }
   ],
   "source": [
    "o = element('Oxygen')\n",
    "print(o.atomic_number)"
   ]
  },
  {
   "cell_type": "markdown",
   "metadata": {
    "id": "SbqJ3_y3V_5e"
   },
   "source": [
    "Podemos saber los estados de oxidación de un elemento, veamos en este caso para el hierro."
   ]
  },
  {
   "cell_type": "code",
   "execution_count": 30,
   "metadata": {
    "colab": {
     "base_uri": "https://localhost:8080/"
    },
    "id": "KHmSZicnPLvh",
    "outputId": "29fa0123-0bb8-472a-f8fb-9b04ebb523fc"
   },
   "outputs": [
    {
     "name": "stdout",
     "output_type": "stream",
     "text": [
      "[3, 2]\n"
     ]
    }
   ],
   "source": [
    "fe = element('Fe')\n",
    "print(fe.oxistates)"
   ]
  },
  {
   "cell_type": "markdown",
   "metadata": {
    "id": "bUuxxd_1WVkq"
   },
   "source": [
    "Otra cosa que podemos saber es la configuración electrónica de un elemento. \n",
    "Nos da un diccionario OrderedDict que tiene como keys una tupla con el número cuántico principal y el nivel, y nos da su número de ocupación. "
   ]
  },
  {
   "cell_type": "code",
   "execution_count": 31,
   "metadata": {},
   "outputs": [
    {
     "data": {
      "text/plain": [
       "<ElectronicConfiguration(conf=\"1s2 2s2 2p6 3s2 3p2\")>"
      ]
     },
     "execution_count": 31,
     "metadata": {},
     "output_type": "execute_result"
    }
   ],
   "source": [
    "si.ec"
   ]
  },
  {
   "cell_type": "code",
   "execution_count": 32,
   "metadata": {
    "colab": {
     "base_uri": "https://localhost:8080/"
    },
    "id": "KFv7bSzKPR6H",
    "outputId": "117161e7-a3f7-42c7-e437-e9cd37775c06"
   },
   "outputs": [
    {
     "data": {
      "text/plain": [
       "OrderedDict([((1, 's'), 2),\n",
       "             ((2, 's'), 2),\n",
       "             ((2, 'p'), 6),\n",
       "             ((3, 's'), 2),\n",
       "             ((3, 'p'), 2)])"
      ]
     },
     "execution_count": 32,
     "metadata": {},
     "output_type": "execute_result"
    }
   ],
   "source": [
    "si.ec.conf"
   ]
  },
  {
   "cell_type": "code",
   "execution_count": 36,
   "metadata": {},
   "outputs": [
    {
     "name": "stdout",
     "output_type": "stream",
     "text": [
      "Atomic No.\tName\t\tSymbol\t\tMass\n",
      "1\t\tHelium\t\tHe\t\t4.002602\n",
      "2\t\tLithium\t\tLi\t\t6.94\n",
      "3\t\tBeryllium\tBe\t\t9.0121831\n",
      "4\t\tBoron\t\tB\t\t10.81\n",
      "5\t\tCarbon\t\tC\t\t12.011\n",
      "6\t\tNitrogen\tN\t\t14.007\n",
      "7\t\tOxygen\t\tO\t\t15.999\n",
      "8\t\tFluorine\tF\t\t18.998403163\n",
      "9\t\tNeon\t\tNe\t\t20.1797\n",
      "10\t\tSodium\t\tNa\t\t22.98976928\n"
     ]
    }
   ],
   "source": [
    "from chempy.util import periodic \n",
    "  \n",
    "n = 10\n",
    "print(\"Atomic No.\\tName\\t\\tSymbol\\t\\tMass\") \n",
    "  \n",
    "for i in range(1, n + 1): \n",
    "    print(i, end = \"\\t\\t\")\n",
    "    \n",
    "    if len(periodic.names[i]) > 7: \n",
    "        print(periodic.names[i], end = \"\\t\") \n",
    "    else: \n",
    "        print(periodic.names[i], end = \"\\t\\t\") \n",
    "    print(periodic.symbols[i], end = \"\\t\\t\") \n",
    "    print(periodic.relative_atomic_masses[i]) \n",
    "    "
   ]
  },
  {
   "cell_type": "code",
   "execution_count": null,
   "metadata": {},
   "outputs": [],
   "source": []
  }
 ],
 "metadata": {
  "colab": {
   "collapsed_sections": [],
   "name": "Instalacion_Chempy_Colab.ipynb",
   "provenance": []
  },
  "kernelspec": {
   "display_name": "Python 3 (ipykernel)",
   "language": "python",
   "name": "python3"
  },
  "language_info": {
   "codemirror_mode": {
    "name": "ipython",
    "version": 3
   },
   "file_extension": ".py",
   "mimetype": "text/x-python",
   "name": "python",
   "nbconvert_exporter": "python",
   "pygments_lexer": "ipython3",
   "version": "3.8.5"
  }
 },
 "nbformat": 4,
 "nbformat_minor": 1
}
